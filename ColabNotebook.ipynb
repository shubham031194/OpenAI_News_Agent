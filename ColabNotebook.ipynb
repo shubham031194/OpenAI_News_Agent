{
  "cells": [
    {
      "cell_type": "code",
      "execution_count": 2,
      "metadata": {
        "id": "9afkyWcwjodM"
      },
      "outputs": [],
      "source": [
        "import os\n",
        "from threading import Thread\n",
        "from pyngrok import ngrok"
      ]
    },
    {
      "cell_type": "code",
      "execution_count": 3,
      "metadata": {
        "colab": {
          "base_uri": "https://localhost:8080/"
        },
        "id": "oRMe9aAaizin",
        "outputId": "03709be0-4da6-4306-9d08-62f15e39f090"
      },
      "outputs": [
        {
          "name": "stdout",
          "output_type": "stream",
          "text": []
        }
      ],
      "source": [
        "auth_token = **NGROK_AUTH_TOKEN**\n",
        "ngrok.set_auth_token(auth_token)"
      ]
    },
    {
      "cell_type": "code",
      "execution_count": 4,
      "metadata": {
        "id": "QqjIzJP2j5HO"
      },
      "outputs": [],
      "source": [
        "def run_streamlit():\n",
        "  os.system('streamlit run /content/app.py --server.port 8501')"
      ]
    },
    {
      "cell_type": "code",
      "execution_count": 5,
      "metadata": {
        "id": "Dyo9yQqokPJM"
      },
      "outputs": [],
      "source": [
        "thread = Thread(target=run_streamlit)\n",
        "thread.start()"
      ]
    },
    {
      "cell_type": "code",
      "execution_count": 6,
      "metadata": {
        "colab": {
          "base_uri": "https://localhost:8080/"
        },
        "id": "TipSDIn5kaJd",
        "outputId": "8f1340d1-dec6-4416-ebc4-605f0c3ae8f6"
      },
      "outputs": [
        {
          "name": "stdout",
          "output_type": "stream",
          "text": [
            "Live at:  NgrokTunnel: \"https://adf4-35-227-50-119.ngrok-free.app\" -> \"http://localhost:8501\"\n"
          ]
        }
      ],
      "source": [
        "public_url = ngrok.connect(addr='8501', proto='http', bind_tls=True)\n",
        "print('Live at: ', public_url)"
      ]
    },
    {
      "cell_type": "code",
      "execution_count": 16,
      "metadata": {
        "id": "9wogbCILD-Zo"
      },
      "outputs": [],
      "source": [
        "ngrok.kill()"
      ]
    }
  ],
  "metadata": {
    "colab": {
      "provenance": []
    },
    "kernelspec": {
      "display_name": "Python 3",
      "name": "python3"
    },
    "language_info": {
      "name": "python"
    }
  },
  "nbformat": 4,
  "nbformat_minor": 0
}
